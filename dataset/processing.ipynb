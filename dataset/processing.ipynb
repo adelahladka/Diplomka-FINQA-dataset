{
 "cells": [
  {
   "cell_type": "markdown",
   "id": "52e347bd-a954-4ef2-ae9e-f2ecd5bc6833",
   "metadata": {},
   "source": [
    "## Analysis \n"
   ]
  },
  {
   "cell_type": "markdown",
   "id": "1d419540-3177-447b-8b52-4756f52f881a",
   "metadata": {},
   "source": [
    "{\"pre_text\": the texts before the table;\n",
    "\"post_text\": the text after the table;\n",
    "\"table\": the table;\n",
    "\"id\": unique example id. composed by the original report name plus example index for this report. \n",
    "\n",
    "\"qa\": {\n",
    "  \"question\": the question;\n",
    "  \"program\": the reasoning program;\n",
    "  \"gold_inds\": the gold supporting facts;\n",
    "  \"exe_ans\": the gold execution result;\n",
    "  \"program_re\": the reasoning program in nested format;\n",
    "}"
   ]
  },
  {
   "cell_type": "raw",
   "id": "c1c79fbe-22d3-477d-870f-3730eff90116",
   "metadata": {},
   "source": [
    "In the zadání of one question we got: pre text - table (with data/numbers) - post text\n"
   ]
  },
  {
   "cell_type": "code",
   "execution_count": 13,
   "id": "c499bd2e-1075-499e-bb4b-adc55a9cb1da",
   "metadata": {},
   "outputs": [],
   "source": [
    "import json\n",
    "import pandas as pd\n",
    "import os"
   ]
  },
  {
   "cell_type": "code",
   "execution_count": null,
   "id": "f9915c2d-0eeb-4427-a86d-94074d04c014",
   "metadata": {},
   "outputs": [],
   "source": []
  },
  {
   "cell_type": "code",
   "execution_count": 19,
   "id": "d822ef5d-30ae-4cd4-a36b-63fcdee8b6be",
   "metadata": {},
   "outputs": [],
   "source": [
    "\n",
    "# Function to process each entry in the JSON and structure it into a tabular format\n",
    "def process_json_entry(entry):\n",
    "    data = {\n",
    "        'id': entry['id'],\n",
    "        'pre_text': ' '.join(entry.get('pre_text', [])),\n",
    "        'post_text': ' '.join(entry.get('post_text', [])),\n",
    "        'table': '; '.join([' | '.join(row) for row in entry.get('table', [])]),\n",
    "        'qa_question': entry['qa'].get('question', ''),\n",
    "        'qa_answer': entry['qa'].get('answer', ''),\n",
    "        'qa_explanation': entry['qa'].get('explanation', ''),\n",
    "        'qa_program': entry['qa'].get('program', ''),\n",
    "        'qa_gold_inds': entry['qa'].get('gold_inds', ''),\n",
    "        'qa_exe_ans': entry['qa'].get('exe_ans', ''),\n",
    "        'qa_program_re': entry['qa'].get('program_re', ''),\n",
    "        'qa_ann_table_rows': entry['qa'].get('ann_table_rows', ''),\n",
    "        'qa_ann_text_rows': entry['qa'].get('ann_text_rows', '')\n",
    "    }\n",
    "    return data\n",
    "\n",
    "\n"
   ]
  },
  {
   "cell_type": "code",
   "execution_count": 16,
   "id": "8eab48b5-be58-4061-9f4c-2d06e83b9ba4",
   "metadata": {},
   "outputs": [
    {
     "name": "stdout",
     "output_type": "stream",
     "text": [
      "Current working directory: C:\\Users\\Uzivatel\\Documents\\Diplomka-FINQA-dataset\\AB-code\n"
     ]
    }
   ],
   "source": [
    "# Print current working directory\n",
    "print(\"Current working directory:\", os.getcwd())\n",
    "\n",
    "# Check if file exists\n",
    "file_path = 'C:\\\\Users\\\\Uzivatel\\\\Documents\\\\Diplomka-FINQA-dataset\\\\dataset\\\\train.json'\n",
    "if not os.path.isfile(file_path):\n",
    "    print(f\"File not found: {file_path}\")\n",
    "else:\n",
    "    # Read the JSON file\n",
    "    with open(file_path, 'r') as file:\n",
    "        json_data = json.load(file)\n",
    "\n",
    "    # Process each entry and create a DataFrame\n",
    "    data_list = [process_json_entry(entry) for entry in json_data]\n",
    "    df = pd.DataFrame(data_list)\n"
   ]
  },
  {
   "cell_type": "code",
   "execution_count": 18,
   "id": "a05b970c-4368-4aef-9830-e2fb589240e7",
   "metadata": {},
   "outputs": [],
   "source": [
    "# Save the DataFrame to CSV\n",
    "df.to_csv('output.csv', index=False)\n",
    "\n",
    "# Save the DataFrame to XLSX\n",
    "df.to_excel('output.xlsx', index=False)\n"
   ]
  }
 ],
 "metadata": {
  "kernelspec": {
   "display_name": "Python 3 (ipykernel)",
   "language": "python",
   "name": "python3"
  },
  "language_info": {
   "codemirror_mode": {
    "name": "ipython",
    "version": 3
   },
   "file_extension": ".py",
   "mimetype": "text/x-python",
   "name": "python",
   "nbconvert_exporter": "python",
   "pygments_lexer": "ipython3",
   "version": "3.10.9"
  }
 },
 "nbformat": 4,
 "nbformat_minor": 5
}
